{
 "cells": [
  {
   "cell_type": "markdown",
   "id": "340090dd-dbb2-45d0-8127-d37585490d23",
   "metadata": {},
   "source": [
    "# Data Science Tools and Ecosystem"
   ]
  },
  {
   "cell_type": "markdown",
   "id": "359b227e-d4ea-4df5-b758-0361b57fb8a8",
   "metadata": {},
   "source": [
    "In this notebook, Data Science Tools and Ecosystem are summarized."
   ]
  },
  {
   "cell_type": "markdown",
   "id": "b3d5769a-c639-44ac-923d-d96890dc9050",
   "metadata": {},
   "source": [
    "This notebook summarizes the Data Science Tools and Ecosystem."
   ]
  },
  {
   "cell_type": "markdown",
   "id": "40bb8c41-3c9d-40cc-88ca-a1aed145fa16",
   "metadata": {},
   "source": [
    "**Objectives:**\n",
    "- List popular languages used in Data Science.\n",
    "- List five popular libraries.\n",
    "- Demonstrate how to annotate code using Markdown in a Jupyter-Notebook.\n",
    "- Show how to combine Markdown and code cells."
   ]
  },
  {
   "cell_type": "markdown",
   "id": "3b1da9e6-1100-4855-8b92-9ce443c5fed3",
   "metadata": {},
   "source": [
    "Some of the popular languages that Data Scientists use are:\n",
    "\n",
    "1. Python\n",
    "2. R\n",
    "3. JavaScript "
   ]
  },
  {
   "cell_type": "markdown",
   "id": "d5caf0be-d00b-438f-acab-f7c8c4694900",
   "metadata": {},
   "source": [
    "Some of the commonly used libraries used by Data Scientists include:\n",
    "\n",
    "1. Scikit-learn\n",
    "2. tensorflow\n",
    "3. Pandas\n",
    "4. Numpy\n",
    "5. Matplotlib"
   ]
  },
  {
   "cell_type": "markdown",
   "id": "68b40df0-a522-414f-a704-e83fec50c2e3",
   "metadata": {},
   "source": [
    "|Data Science Tools|\n",
    "--------------------\n",
    "|Jupyter-Notebook|\n",
    "|Spyder|\n",
    "|RStudio|"
   ]
  },
  {
   "cell_type": "markdown",
   "id": "06df2041-e8a1-4482-81d7-90598918d6d2",
   "metadata": {},
   "source": [
    "### Below are a few examples of evaluating arithmetic expressions in Python"
   ]
  },
  {
   "cell_type": "code",
   "execution_count": 6,
   "id": "951a4c19-a2f6-4ff2-b0c0-2c4c52c8c792",
   "metadata": {
    "scrolled": true
   },
   "outputs": [
    {
     "data": {
      "text/plain": [
       "17"
      ]
     },
     "execution_count": 6,
     "metadata": {},
     "output_type": "execute_result"
    }
   ],
   "source": [
    "# This a simple arithmetic expression to mutiply then add integers\n",
    "(3*4)+5"
   ]
  },
  {
   "cell_type": "code",
   "execution_count": 9,
   "id": "0f84abf9-6033-4304-b23d-7b6c369251cb",
   "metadata": {},
   "outputs": [
    {
     "data": {
      "text/plain": [
       "3.3333333333333335"
      ]
     },
     "execution_count": 9,
     "metadata": {},
     "output_type": "execute_result"
    }
   ],
   "source": [
    "#  This will convert 200 minutes to hours by diving by 60\n",
    "s = \"200 minutes\"\n",
    "int(s[:3])/60"
   ]
  },
  {
   "cell_type": "markdown",
   "id": "e8389859-3ea4-4282-8498-10ed799c426b",
   "metadata": {},
   "source": [
    "## Author\n",
    "Dr. Eric Heerwagen"
   ]
  },
  {
   "cell_type": "code",
   "execution_count": null,
   "id": "b469d742-aa3f-4856-aa8a-e5f5b6aa1c98",
   "metadata": {},
   "outputs": [],
   "source": []
  }
 ],
 "metadata": {
  "kernelspec": {
   "display_name": "Python 3 (ipykernel)",
   "language": "python",
   "name": "python3"
  },
  "language_info": {
   "codemirror_mode": {
    "name": "ipython",
    "version": 3
   },
   "file_extension": ".py",
   "mimetype": "text/x-python",
   "name": "python",
   "nbconvert_exporter": "python",
   "pygments_lexer": "ipython3",
   "version": "3.11.9"
  }
 },
 "nbformat": 4,
 "nbformat_minor": 5
}
